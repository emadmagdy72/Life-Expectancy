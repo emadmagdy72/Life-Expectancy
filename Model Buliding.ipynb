{
 "cells": [
  {
   "cell_type": "markdown",
   "id": "db26aaaa",
   "metadata": {},
   "source": [
    "## Import Pipeline"
   ]
  },
  {
   "cell_type": "code",
   "execution_count": 1,
   "id": "c0c2ad72",
   "metadata": {},
   "outputs": [],
   "source": [
    "import Pipelines"
   ]
  },
  {
   "cell_type": "markdown",
   "id": "d8cad07a",
   "metadata": {},
   "source": [
    "## Import Libraries"
   ]
  },
  {
   "cell_type": "code",
   "execution_count": 2,
   "id": "e25e0c12",
   "metadata": {},
   "outputs": [],
   "source": [
    "import pandas as pd\n",
    "import numpy as np\n",
    "from sklearn.impute import SimpleImputer\n",
    "from sklearn.preprocessing import StandardScaler, MinMaxScaler, FunctionTransformer, OneHotEncoder, OrdinalEncoder\n",
    "from sklearn.compose import ColumnTransformer\n",
    "from colorama import Fore\n",
    "from sklearn.ensemble import (RandomForestRegressor ,\n",
    "                                HistGradientBoostingRegressor,\n",
    "                                ExtraTreesRegressor)\n",
    "from sklearn.model_selection import cross_val_score, cross_validate\n",
    "from sklearn.metrics import r2_score, mean_absolute_error\n",
    "\n",
    "from xgboost import XGBRegressor\n",
    "from lightgbm import LGBMRegressor\n",
    "\n",
    "import warnings\n",
    "warnings.simplefilter(\"ignore\")"
   ]
  },
  {
   "cell_type": "markdown",
   "id": "60e29593",
   "metadata": {},
   "source": [
    "## Dataset"
   ]
  },
  {
   "cell_type": "code",
   "execution_count": 3,
   "id": "d803f736",
   "metadata": {},
   "outputs": [],
   "source": [
    "X_train = pd.read_csv('Datasets/Xtrain.csv',index_col='Unnamed: 0')\n",
    "y_train = pd.read_csv('Datasets/ytrain.csv',index_col='Unnamed: 0')\n",
    "X_test = pd.read_csv('Datasets/Xtest.csv',index_col='Unnamed: 0')\n",
    "y_test = pd.read_csv('Datasets/ytest.csv',index_col='Unnamed: 0')\n",
    "\n"
   ]
  },
  {
   "cell_type": "markdown",
   "id": "44159078",
   "metadata": {},
   "source": [
    "## Pipeline 2"
   ]
  },
  {
   "cell_type": "code",
   "execution_count": 4,
   "id": "42484764",
   "metadata": {},
   "outputs": [],
   "source": [
    "test_set = pd.concat([X_test,y_test], axis=1)\n",
    "X_train2, full_pipeline = Pipelines.Full_pipeline2(X_train)\n",
    "X_test2 = Pipelines.Production_pipeline(test_set,full_pipeline)\n",
    "\n",
    "X_train = pd.DataFrame(X_train2)\n",
    "X_test = pd.DataFrame(X_test2)"
   ]
  },
  {
   "cell_type": "code",
   "execution_count": 5,
   "id": "db8ab38d",
   "metadata": {},
   "outputs": [
    {
     "data": {
      "text/html": [
       "<div>\n",
       "<style scoped>\n",
       "    .dataframe tbody tr th:only-of-type {\n",
       "        vertical-align: middle;\n",
       "    }\n",
       "\n",
       "    .dataframe tbody tr th {\n",
       "        vertical-align: top;\n",
       "    }\n",
       "\n",
       "    .dataframe thead th {\n",
       "        text-align: right;\n",
       "    }\n",
       "</style>\n",
       "<table border=\"1\" class=\"dataframe\">\n",
       "  <thead>\n",
       "    <tr style=\"text-align: right;\">\n",
       "      <th></th>\n",
       "      <th>0</th>\n",
       "      <th>1</th>\n",
       "      <th>2</th>\n",
       "      <th>3</th>\n",
       "      <th>4</th>\n",
       "      <th>5</th>\n",
       "      <th>6</th>\n",
       "      <th>7</th>\n",
       "      <th>8</th>\n",
       "      <th>9</th>\n",
       "      <th>10</th>\n",
       "      <th>11</th>\n",
       "      <th>12</th>\n",
       "      <th>13</th>\n",
       "      <th>14</th>\n",
       "    </tr>\n",
       "  </thead>\n",
       "  <tbody>\n",
       "    <tr>\n",
       "      <th>0</th>\n",
       "      <td>1.0</td>\n",
       "      <td>-0.322817</td>\n",
       "      <td>-0.256632</td>\n",
       "      <td>1.239004</td>\n",
       "      <td>0.009541</td>\n",
       "      <td>0.612859</td>\n",
       "      <td>-0.212647</td>\n",
       "      <td>1.012192</td>\n",
       "      <td>0.452644</td>\n",
       "      <td>1.658105</td>\n",
       "      <td>0.374518</td>\n",
       "      <td>-0.326377</td>\n",
       "      <td>-0.183566</td>\n",
       "      <td>-0.623696</td>\n",
       "      <td>0.677302</td>\n",
       "    </tr>\n",
       "    <tr>\n",
       "      <th>1</th>\n",
       "      <td>1.0</td>\n",
       "      <td>0.103723</td>\n",
       "      <td>-0.265419</td>\n",
       "      <td>-0.104193</td>\n",
       "      <td>-0.183638</td>\n",
       "      <td>0.222202</td>\n",
       "      <td>-0.212647</td>\n",
       "      <td>-0.586831</td>\n",
       "      <td>0.238553</td>\n",
       "      <td>-0.683349</td>\n",
       "      <td>0.249590</td>\n",
       "      <td>-0.326377</td>\n",
       "      <td>-0.195855</td>\n",
       "      <td>0.688496</td>\n",
       "      <td>0.263062</td>\n",
       "    </tr>\n",
       "    <tr>\n",
       "      <th>2</th>\n",
       "      <td>1.0</td>\n",
       "      <td>1.689162</td>\n",
       "      <td>0.543056</td>\n",
       "      <td>-0.283628</td>\n",
       "      <td>-0.375135</td>\n",
       "      <td>0.135390</td>\n",
       "      <td>0.085843</td>\n",
       "      <td>-0.927688</td>\n",
       "      <td>0.281371</td>\n",
       "      <td>-0.695781</td>\n",
       "      <td>0.166304</td>\n",
       "      <td>1.082164</td>\n",
       "      <td>-0.168581</td>\n",
       "      <td>0.552752</td>\n",
       "      <td>0.226077</td>\n",
       "    </tr>\n",
       "    <tr>\n",
       "      <th>3</th>\n",
       "      <td>0.0</td>\n",
       "      <td>-0.837884</td>\n",
       "      <td>-0.265419</td>\n",
       "      <td>0.603292</td>\n",
       "      <td>3.824156</td>\n",
       "      <td>0.395827</td>\n",
       "      <td>-0.210460</td>\n",
       "      <td>0.921965</td>\n",
       "      <td>0.666734</td>\n",
       "      <td>1.384590</td>\n",
       "      <td>0.666017</td>\n",
       "      <td>-0.326377</td>\n",
       "      <td>-0.008125</td>\n",
       "      <td>-0.804688</td>\n",
       "      <td>1.318386</td>\n",
       "    </tr>\n",
       "    <tr>\n",
       "      <th>4</th>\n",
       "      <td>1.0</td>\n",
       "      <td>0.876322</td>\n",
       "      <td>-0.230268</td>\n",
       "      <td>-0.211854</td>\n",
       "      <td>-0.375135</td>\n",
       "      <td>0.178796</td>\n",
       "      <td>-0.199266</td>\n",
       "      <td>-0.591843</td>\n",
       "      <td>0.195735</td>\n",
       "      <td>-0.078300</td>\n",
       "      <td>0.207947</td>\n",
       "      <td>0.271771</td>\n",
       "      <td>-0.194763</td>\n",
       "      <td>0.507504</td>\n",
       "      <td>-1.028970</td>\n",
       "    </tr>\n",
       "  </tbody>\n",
       "</table>\n",
       "</div>"
      ],
      "text/plain": [
       "    0         1         2         3         4         5         6         7   \\\n",
       "0  1.0 -0.322817 -0.256632  1.239004  0.009541  0.612859 -0.212647  1.012192   \n",
       "1  1.0  0.103723 -0.265419 -0.104193 -0.183638  0.222202 -0.212647 -0.586831   \n",
       "2  1.0  1.689162  0.543056 -0.283628 -0.375135  0.135390  0.085843 -0.927688   \n",
       "3  0.0 -0.837884 -0.265419  0.603292  3.824156  0.395827 -0.210460  0.921965   \n",
       "4  1.0  0.876322 -0.230268 -0.211854 -0.375135  0.178796 -0.199266 -0.591843   \n",
       "\n",
       "         8         9         10        11        12        13        14  \n",
       "0  0.452644  1.658105  0.374518 -0.326377 -0.183566 -0.623696  0.677302  \n",
       "1  0.238553 -0.683349  0.249590 -0.326377 -0.195855  0.688496  0.263062  \n",
       "2  0.281371 -0.695781  0.166304  1.082164 -0.168581  0.552752  0.226077  \n",
       "3  0.666734  1.384590  0.666017 -0.326377 -0.008125 -0.804688  1.318386  \n",
       "4  0.195735 -0.078300  0.207947  0.271771 -0.194763  0.507504 -1.028970  "
      ]
     },
     "execution_count": 5,
     "metadata": {},
     "output_type": "execute_result"
    }
   ],
   "source": [
    "X_train.head()"
   ]
  },
  {
   "cell_type": "code",
   "execution_count": 6,
   "id": "bb709275",
   "metadata": {},
   "outputs": [
    {
     "data": {
      "text/plain": [
       "(2342, 15)"
      ]
     },
     "execution_count": 6,
     "metadata": {},
     "output_type": "execute_result"
    }
   ],
   "source": [
    "X_train.shape"
   ]
  },
  {
   "cell_type": "code",
   "execution_count": 7,
   "id": "fe0a4062",
   "metadata": {},
   "outputs": [
    {
     "data": {
      "text/plain": [
       "(586, 15)"
      ]
     },
     "execution_count": 7,
     "metadata": {},
     "output_type": "execute_result"
    }
   ],
   "source": [
    "X_test.shape"
   ]
  },
  {
   "cell_type": "markdown",
   "id": "51bbf486",
   "metadata": {},
   "source": [
    "# RandomForest"
   ]
  },
  {
   "cell_type": "code",
   "execution_count": 8,
   "id": "c10becd5",
   "metadata": {},
   "outputs": [
    {
     "data": {
      "text/html": [
       "<div>\n",
       "<style scoped>\n",
       "    .dataframe tbody tr th:only-of-type {\n",
       "        vertical-align: middle;\n",
       "    }\n",
       "\n",
       "    .dataframe tbody tr th {\n",
       "        vertical-align: top;\n",
       "    }\n",
       "\n",
       "    .dataframe thead th {\n",
       "        text-align: right;\n",
       "    }\n",
       "</style>\n",
       "<table border=\"1\" class=\"dataframe\">\n",
       "  <thead>\n",
       "    <tr style=\"text-align: right;\">\n",
       "      <th></th>\n",
       "      <th>R2 (%)</th>\n",
       "      <th>MAE</th>\n",
       "    </tr>\n",
       "  </thead>\n",
       "  <tbody>\n",
       "    <tr>\n",
       "      <th>Train</th>\n",
       "      <td>99.45</td>\n",
       "      <td>0.44</td>\n",
       "    </tr>\n",
       "    <tr>\n",
       "      <th>Avg_cv</th>\n",
       "      <td>95.80</td>\n",
       "      <td>1.27</td>\n",
       "    </tr>\n",
       "    <tr>\n",
       "      <th>Test</th>\n",
       "      <td>96.11</td>\n",
       "      <td>1.13</td>\n",
       "    </tr>\n",
       "  </tbody>\n",
       "</table>\n",
       "</div>"
      ],
      "text/plain": [
       "        R2 (%)   MAE\n",
       "Train    99.45  0.44\n",
       "Avg_cv   95.80  1.27\n",
       "Test     96.11  1.13"
      ]
     },
     "execution_count": 8,
     "metadata": {},
     "output_type": "execute_result"
    }
   ],
   "source": [
    "rf = RandomForestRegressor()\n",
    "rf.fit(X_train,y_train)\n",
    "\n",
    "train_score = rf.predict(X_train)\n",
    "train_r2 = r2_score(train_score,y_train)\n",
    "train_mae = mean_absolute_error(train_score,y_train)\n",
    "\n",
    "\n",
    "scores1 = cross_validate(rf, X_train, y_train, cv=5, scoring=['r2'])\n",
    "scores2 = cross_validate(rf, X_train, y_train, cv=5, scoring=['neg_mean_absolute_error'])\n",
    "avg_r2 = scores1['test_r2'].mean()\n",
    "avg_mae = -scores2['test_neg_mean_absolute_error'].mean()\n",
    "\n",
    "pred = rf.predict(X_test)\n",
    "test_r2 = r2_score(pred,y_test)\n",
    "test_mae = mean_absolute_error(pred,y_test)\n",
    "\n",
    "\n",
    "dic = {'R2 (%)':[train_r2*100, avg_r2*100, test_r2*100],\n",
    "       \n",
    "       'MAE':[train_mae, avg_mae, test_mae] }\n",
    "\n",
    "Evaluation = pd.DataFrame(dic, index=['Train', 'Avg_cv', 'Test'])\n",
    "Evaluation.round(2)"
   ]
  },
  {
   "cell_type": "markdown",
   "id": "cf8ba717",
   "metadata": {},
   "source": [
    "========================================================================================================"
   ]
  },
  {
   "cell_type": "markdown",
   "id": "58878c2b",
   "metadata": {},
   "source": [
    "## ExtraTreesRegressor"
   ]
  },
  {
   "cell_type": "code",
   "execution_count": 9,
   "id": "7f1e9293",
   "metadata": {},
   "outputs": [
    {
     "data": {
      "text/html": [
       "<div>\n",
       "<style scoped>\n",
       "    .dataframe tbody tr th:only-of-type {\n",
       "        vertical-align: middle;\n",
       "    }\n",
       "\n",
       "    .dataframe tbody tr th {\n",
       "        vertical-align: top;\n",
       "    }\n",
       "\n",
       "    .dataframe thead th {\n",
       "        text-align: right;\n",
       "    }\n",
       "</style>\n",
       "<table border=\"1\" class=\"dataframe\">\n",
       "  <thead>\n",
       "    <tr style=\"text-align: right;\">\n",
       "      <th></th>\n",
       "      <th>R2 (%)</th>\n",
       "      <th>MAE</th>\n",
       "    </tr>\n",
       "  </thead>\n",
       "  <tbody>\n",
       "    <tr>\n",
       "      <th>Train</th>\n",
       "      <td>100.00</td>\n",
       "      <td>0.00</td>\n",
       "    </tr>\n",
       "    <tr>\n",
       "      <th>Avg_cv</th>\n",
       "      <td>96.45</td>\n",
       "      <td>1.08</td>\n",
       "    </tr>\n",
       "    <tr>\n",
       "      <th>Test</th>\n",
       "      <td>96.55</td>\n",
       "      <td>0.96</td>\n",
       "    </tr>\n",
       "  </tbody>\n",
       "</table>\n",
       "</div>"
      ],
      "text/plain": [
       "        R2 (%)   MAE\n",
       "Train   100.00  0.00\n",
       "Avg_cv   96.45  1.08\n",
       "Test     96.55  0.96"
      ]
     },
     "execution_count": 9,
     "metadata": {},
     "output_type": "execute_result"
    }
   ],
   "source": [
    "extra = ExtraTreesRegressor()\n",
    "extra.fit(X_train,y_train)\n",
    "\n",
    "train_score = extra.predict(X_train)\n",
    "train_r2 = r2_score(train_score,y_train)\n",
    "train_mae = mean_absolute_error(train_score,y_train)\n",
    "\n",
    "\n",
    "scores1 = cross_validate(extra, X_train, y_train, cv=5, scoring=['r2'])\n",
    "scores2 = cross_validate(extra, X_train, y_train, cv=5, scoring=['neg_mean_absolute_error'])\n",
    "avg_r2 = scores1['test_r2'].mean()\n",
    "avg_mae = -scores2['test_neg_mean_absolute_error'].mean()\n",
    "\n",
    "pred = extra.predict(X_test)\n",
    "test_r2 = r2_score(pred,y_test)\n",
    "test_mae = mean_absolute_error(pred,y_test)\n",
    "\n",
    "\n",
    "dic = {'R2 (%)':[train_r2*100, avg_r2*100, test_r2*100], \n",
    "       'MAE':[train_mae, avg_mae, test_mae] }\n",
    "\n",
    "Evaluation = pd.DataFrame(dic, index=['Train', 'Avg_cv', 'Test'])\n",
    "Evaluation.round(2)"
   ]
  },
  {
   "cell_type": "markdown",
   "id": "46a0c005",
   "metadata": {},
   "source": [
    "========================================================================================================"
   ]
  },
  {
   "cell_type": "markdown",
   "id": "084fe627",
   "metadata": {},
   "source": [
    "## LGBMRegressor"
   ]
  },
  {
   "cell_type": "code",
   "execution_count": 10,
   "id": "ff6b7ff0",
   "metadata": {},
   "outputs": [
    {
     "data": {
      "text/html": [
       "<div>\n",
       "<style scoped>\n",
       "    .dataframe tbody tr th:only-of-type {\n",
       "        vertical-align: middle;\n",
       "    }\n",
       "\n",
       "    .dataframe tbody tr th {\n",
       "        vertical-align: top;\n",
       "    }\n",
       "\n",
       "    .dataframe thead th {\n",
       "        text-align: right;\n",
       "    }\n",
       "</style>\n",
       "<table border=\"1\" class=\"dataframe\">\n",
       "  <thead>\n",
       "    <tr style=\"text-align: right;\">\n",
       "      <th></th>\n",
       "      <th>R2 (%)</th>\n",
       "      <th>MAE</th>\n",
       "    </tr>\n",
       "  </thead>\n",
       "  <tbody>\n",
       "    <tr>\n",
       "      <th>Train</th>\n",
       "      <td>98.96</td>\n",
       "      <td>0.65</td>\n",
       "    </tr>\n",
       "    <tr>\n",
       "      <th>Avg_cv</th>\n",
       "      <td>95.73</td>\n",
       "      <td>1.30</td>\n",
       "    </tr>\n",
       "    <tr>\n",
       "      <th>Test</th>\n",
       "      <td>96.29</td>\n",
       "      <td>1.19</td>\n",
       "    </tr>\n",
       "  </tbody>\n",
       "</table>\n",
       "</div>"
      ],
      "text/plain": [
       "        R2 (%)   MAE\n",
       "Train    98.96  0.65\n",
       "Avg_cv   95.73  1.30\n",
       "Test     96.29  1.19"
      ]
     },
     "execution_count": 10,
     "metadata": {},
     "output_type": "execute_result"
    }
   ],
   "source": [
    "lg = LGBMRegressor()\n",
    "lg.fit(X_train,y_train)\n",
    "\n",
    "train_score = lg.predict(X_train)\n",
    "train_r2 = r2_score(train_score,y_train)\n",
    "train_mae = mean_absolute_error(train_score,y_train)\n",
    "\n",
    "\n",
    "scores1 = cross_validate(lg, X_train, y_train, cv=5, scoring=['r2'])\n",
    "scores2 = cross_validate(lg, X_train, y_train, cv=5, scoring=['neg_mean_absolute_error'])\n",
    "avg_r2 = scores1['test_r2'].mean()\n",
    "avg_mae = -scores2['test_neg_mean_absolute_error'].mean()\n",
    "\n",
    "pred = lg.predict(X_test)\n",
    "test_r2 = r2_score(pred,y_test)\n",
    "test_mae = mean_absolute_error(pred,y_test)\n",
    "\n",
    "\n",
    "dic = {'R2 (%)':[train_r2*100, avg_r2*100, test_r2*100],\n",
    "       \n",
    "       'MAE':[train_mae, avg_mae, test_mae] }\n",
    "\n",
    "Evaluation = pd.DataFrame(dic, index=['Train', 'Avg_cv', 'Test'])\n",
    "Evaluation.round(2)"
   ]
  },
  {
   "cell_type": "code",
   "execution_count": 11,
   "id": "6baf6ca0",
   "metadata": {},
   "outputs": [
    {
     "data": {
      "text/html": [
       "<div>\n",
       "<style scoped>\n",
       "    .dataframe tbody tr th:only-of-type {\n",
       "        vertical-align: middle;\n",
       "    }\n",
       "\n",
       "    .dataframe tbody tr th {\n",
       "        vertical-align: top;\n",
       "    }\n",
       "\n",
       "    .dataframe thead th {\n",
       "        text-align: right;\n",
       "    }\n",
       "</style>\n",
       "<table border=\"1\" class=\"dataframe\">\n",
       "  <thead>\n",
       "    <tr style=\"text-align: right;\">\n",
       "      <th></th>\n",
       "      <th>R2 (%)</th>\n",
       "      <th>MAE</th>\n",
       "    </tr>\n",
       "  </thead>\n",
       "  <tbody>\n",
       "    <tr>\n",
       "      <th>Train</th>\n",
       "      <td>99.88</td>\n",
       "      <td>0.23</td>\n",
       "    </tr>\n",
       "    <tr>\n",
       "      <th>Avg_cv</th>\n",
       "      <td>95.34</td>\n",
       "      <td>1.37</td>\n",
       "    </tr>\n",
       "    <tr>\n",
       "      <th>Test</th>\n",
       "      <td>95.99</td>\n",
       "      <td>1.23</td>\n",
       "    </tr>\n",
       "  </tbody>\n",
       "</table>\n",
       "</div>"
      ],
      "text/plain": [
       "        R2 (%)   MAE\n",
       "Train    99.88  0.23\n",
       "Avg_cv   95.34  1.37\n",
       "Test     95.99  1.23"
      ]
     },
     "execution_count": 11,
     "metadata": {},
     "output_type": "execute_result"
    }
   ],
   "source": [
    "xg = XGBRegressor()\n",
    "xg.fit(X_train,y_train)\n",
    "\n",
    "train_score = xg.predict(X_train)\n",
    "train_r2 = r2_score(train_score,y_train)\n",
    "train_mae = mean_absolute_error(train_score,y_train)\n",
    "\n",
    "\n",
    "scores1 = cross_validate(xg, X_train, y_train, cv=5, scoring=['r2'])\n",
    "scores2 = cross_validate(xg, X_train, y_train, cv=5, scoring=['neg_mean_absolute_error'])\n",
    "avg_r2 = scores1['test_r2'].mean()\n",
    "avg_mae = -scores2['test_neg_mean_absolute_error'].mean()\n",
    "\n",
    "pred = xg.predict(X_test)\n",
    "test_r2 = r2_score(pred,y_test)\n",
    "test_mae = mean_absolute_error(pred,y_test)\n",
    "\n",
    "\n",
    "dic = {'R2 (%)':[train_r2*100, avg_r2*100, test_r2*100],\n",
    "       \n",
    "       'MAE':[train_mae, avg_mae, test_mae] }\n",
    "\n",
    "Evaluation = pd.DataFrame(dic, index=['Train', 'Avg_cv', 'Test'])\n",
    "Evaluation.round(2)"
   ]
  },
  {
   "cell_type": "markdown",
   "id": "7e9162b0",
   "metadata": {},
   "source": [
    "## There are little overfitting of previous Algorithms but I think the best of them is LGBM Regressor"
   ]
  },
  {
   "cell_type": "code",
   "execution_count": null,
   "id": "18c651af",
   "metadata": {},
   "outputs": [],
   "source": []
  }
 ],
 "metadata": {
  "kernelspec": {
   "display_name": "Python 3 (ipykernel)",
   "language": "python",
   "name": "python3"
  },
  "language_info": {
   "codemirror_mode": {
    "name": "ipython",
    "version": 3
   },
   "file_extension": ".py",
   "mimetype": "text/x-python",
   "name": "python",
   "nbconvert_exporter": "python",
   "pygments_lexer": "ipython3",
   "version": "3.9.7"
  }
 },
 "nbformat": 4,
 "nbformat_minor": 5
}
