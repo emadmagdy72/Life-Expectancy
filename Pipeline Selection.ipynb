{
 "cells": [
  {
   "cell_type": "markdown",
   "id": "a9449068",
   "metadata": {},
   "source": [
    "# Pipeline Selection"
   ]
  },
  {
   "cell_type": "markdown",
   "id": "2c6d2949",
   "metadata": {},
   "source": [
    "## Import Librareis"
   ]
  },
  {
   "cell_type": "code",
   "execution_count": 1,
   "id": "4c9dbeec",
   "metadata": {},
   "outputs": [],
   "source": [
    "import pandas as pd\n",
    "import numpy as np\n",
    "from sklearn.ensemble import (RandomForestRegressor ,\n",
    "                                HistGradientBoostingRegressor,\n",
    "                                ExtraTreesRegressor)\n",
    "from sklearn.model_selection import cross_val_score, cross_validate\n",
    "from sklearn.metrics import r2_score, mean_absolute_error\n",
    "\n",
    "from xgboost import XGBRegressor\n",
    "from lightgbm import LGBMRegressor\n",
    "\n",
    "import warnings\n",
    "warnings.simplefilter(\"ignore\")"
   ]
  },
  {
   "cell_type": "markdown",
   "id": "8911561e",
   "metadata": {},
   "source": [
    "## Calling Pipeline from Python file Pipelines.py to choose the best Pipeline"
   ]
  },
  {
   "cell_type": "code",
   "execution_count": 2,
   "id": "0385f429",
   "metadata": {},
   "outputs": [],
   "source": [
    "import Pipelines"
   ]
  },
  {
   "cell_type": "markdown",
   "id": "8017b1d9",
   "metadata": {},
   "source": [
    "## Dataset"
   ]
  },
  {
   "cell_type": "code",
   "execution_count": 3,
   "id": "2ad6d36a",
   "metadata": {},
   "outputs": [],
   "source": [
    "X_train = pd.read_csv('Datasets/Xtrain.csv',index_col='Unnamed: 0')\n",
    "y_train = pd.read_csv('Datasets/ytrain.csv',index_col='Unnamed: 0')\n",
    "X_test = pd.read_csv('Datasets/Xtest.csv',index_col='Unnamed: 0')\n",
    "y_test = pd.read_csv('Datasets/ytest.csv',index_col='Unnamed: 0')"
   ]
  },
  {
   "cell_type": "markdown",
   "id": "af509227",
   "metadata": {},
   "source": [
    "## Calling Some Algorithms"
   ]
  },
  {
   "cell_type": "code",
   "execution_count": 4,
   "id": "31f64609",
   "metadata": {},
   "outputs": [],
   "source": [
    "models = []\n",
    "\n",
    "models.append(RandomForestRegressor())\n",
    "models.append(ExtraTreesRegressor())\n",
    "models.append(XGBRegressor())\n",
    "models.append(LGBMRegressor())\n",
    "\n",
    "model_name = ['Random Forest', 'Extra Trees Regressor', 'XGB Regressor', 'LGBM Regressor']"
   ]
  },
  {
   "cell_type": "markdown",
   "id": "c3685b51",
   "metadata": {},
   "source": [
    "## Pipeline 2\n",
    "\n",
    "1. Impute numeric_cols with median and then std scaler\n",
    "2. Ordinal_encoder cat_cols\n",
    "3. Drop: `GDP`, `thinness 5-9 years`, `under-five deaths`, `Year`, `Country`"
   ]
  },
  {
   "cell_type": "code",
   "execution_count": 5,
   "id": "a8208ea4",
   "metadata": {},
   "outputs": [
    {
     "name": "stdout",
     "output_type": "stream",
     "text": [
      "Pipeline 2 : \n",
      "------------\n",
      "\n",
      "\n",
      "Time of Random Forest on 5 cross validaions : 8.959792852401733\n",
      "Mean r2 score of Random Forest on 5 cross validaions :  0.9573612581885792\n",
      "Mean neg_mean_absolute_error score of Random Forest on 5 cross validaions :  1.265445260875111\n",
      "----------------------------------------------------------------------------------------------\n",
      "\n",
      "Time of Extra Trees Regressor on 5 cross validaions : 3.1508500576019287\n",
      "Mean r2 score of Extra Trees Regressor on 5 cross validaions :  0.9647110269643215\n",
      "Mean neg_mean_absolute_error score of Extra Trees Regressor on 5 cross validaions :  1.0759931569259922\n",
      "----------------------------------------------------------------------------------------------\n",
      "\n",
      "Time of XGB Regressor on 5 cross validaions : 1.0814778804779053\n",
      "Mean r2 score of XGB Regressor on 5 cross validaions :  0.9534273169684242\n",
      "Mean neg_mean_absolute_error score of XGB Regressor on 5 cross validaions :  1.3679706304511692\n",
      "----------------------------------------------------------------------------------------------\n",
      "\n",
      "Time of LGBM Regressor on 5 cross validaions : 0.45612645149230957\n",
      "Mean r2 score of LGBM Regressor on 5 cross validaions :  0.9573061694418833\n",
      "Mean neg_mean_absolute_error score of LGBM Regressor on 5 cross validaions :  1.2967437454188016\n",
      "----------------------------------------------------------------------------------------------\n",
      "\n"
     ]
    }
   ],
   "source": [
    "X_train2, full_pipeline  = Pipelines.Full_pipeline2(X_train)\n",
    "\n",
    "pipeline2_data = Pipelines.compute_pipeline(X_train2,y_train,models,model_name,2)\n",
    "pipeline2_data"
   ]
  },
  {
   "cell_type": "markdown",
   "id": "4680a2ab",
   "metadata": {},
   "source": [
    "## Pipeline3\n",
    "\n",
    "   1. Impute numeric_cols with median and then std scaler\n",
    "   2. one hot encoding cat_cols\n",
    "   3. Drop: `GDP`, `thinness 5-9 years`, `under-five deaths`, `Year`, `Country`\n",
    "   4. Drop `Schooling` "
   ]
  },
  {
   "cell_type": "code",
   "execution_count": 6,
   "id": "01d83b51",
   "metadata": {},
   "outputs": [
    {
     "name": "stdout",
     "output_type": "stream",
     "text": [
      "Pipeline 3 : \n",
      "------------\n",
      "\n",
      "\n",
      "Time of Random Forest on 5 cross validaions : 8.99619460105896\n",
      "Mean r2 score of Random Forest on 5 cross validaions :  0.9570810376692096\n",
      "Mean neg_mean_absolute_error score of Random Forest on 5 cross validaions :  1.2683327957283175\n",
      "----------------------------------------------------------------------------------------------\n",
      "\n",
      "Time of Extra Trees Regressor on 5 cross validaions : 3.2380433082580566\n",
      "Mean r2 score of Extra Trees Regressor on 5 cross validaions :  0.9650107950632606\n",
      "Mean neg_mean_absolute_error score of Extra Trees Regressor on 5 cross validaions :  1.0751451169063098\n",
      "----------------------------------------------------------------------------------------------\n",
      "\n",
      "Time of XGB Regressor on 5 cross validaions : 1.1596300601959229\n",
      "Mean r2 score of XGB Regressor on 5 cross validaions :  0.9534273169684242\n",
      "Mean neg_mean_absolute_error score of XGB Regressor on 5 cross validaions :  1.3679706304511692\n",
      "----------------------------------------------------------------------------------------------\n",
      "\n",
      "Time of LGBM Regressor on 5 cross validaions : 0.5405550003051758\n",
      "Mean r2 score of LGBM Regressor on 5 cross validaions :  0.9573061694418833\n",
      "Mean neg_mean_absolute_error score of LGBM Regressor on 5 cross validaions :  1.2967437454188016\n",
      "----------------------------------------------------------------------------------------------\n",
      "\n"
     ]
    }
   ],
   "source": [
    "X_train3, full_pipeline  = Pipelines.Full_pipeline3(X_train)\n",
    "\n",
    "pipeline3_data = Pipelines.compute_pipeline(X_train3,y_train,models,model_name,3)\n",
    "pipeline3_data"
   ]
  },
  {
   "cell_type": "markdown",
   "id": "f8727ef3",
   "metadata": {},
   "source": [
    "## Pipeline4\n",
    "\n",
    "1. Impute numeric_cols with median and then MinMax scaler\n",
    "2. one hot encoding cat_cols\n",
    "3. Drop: `GDP`, `thinness 5-9 years`, `under-five deaths`, `Year`, `Country`\n",
    "4. Drop `Schooling` "
   ]
  },
  {
   "cell_type": "code",
   "execution_count": 7,
   "id": "e6684f9c",
   "metadata": {},
   "outputs": [
    {
     "name": "stdout",
     "output_type": "stream",
     "text": [
      "Pipeline 4 : \n",
      "------------\n",
      "\n",
      "\n",
      "Time of Random Forest on 5 cross validaions : 8.91727900505066\n",
      "Mean r2 score of Random Forest on 5 cross validaions :  0.957161093610809\n",
      "Mean neg_mean_absolute_error score of Random Forest on 5 cross validaions :  1.2554105106336444\n",
      "----------------------------------------------------------------------------------------------\n",
      "\n",
      "Time of Extra Trees Regressor on 5 cross validaions : 3.104919672012329\n",
      "Mean r2 score of Extra Trees Regressor on 5 cross validaions :  0.9644936181278514\n",
      "Mean neg_mean_absolute_error score of Extra Trees Regressor on 5 cross validaions :  1.0794756565159536\n",
      "----------------------------------------------------------------------------------------------\n",
      "\n",
      "Time of XGB Regressor on 5 cross validaions : 1.0839016437530518\n",
      "Mean r2 score of XGB Regressor on 5 cross validaions :  0.9533333099943995\n",
      "Mean neg_mean_absolute_error score of XGB Regressor on 5 cross validaions :  1.3702175002893813\n",
      "----------------------------------------------------------------------------------------------\n",
      "\n",
      "Time of LGBM Regressor on 5 cross validaions : 0.4201540946960449\n",
      "Mean r2 score of LGBM Regressor on 5 cross validaions :  0.9566247833103022\n",
      "Mean neg_mean_absolute_error score of LGBM Regressor on 5 cross validaions :  1.3067891437758294\n",
      "----------------------------------------------------------------------------------------------\n",
      "\n"
     ]
    }
   ],
   "source": [
    "X_train4, full_pipeline  = Pipelines.Full_pipeline4(X_train)\n",
    "\n",
    "pipeline4_data = Pipelines.compute_pipeline(X_train4,y_train,models,model_name,4)\n",
    "pipeline4_data"
   ]
  },
  {
   "cell_type": "markdown",
   "id": "e9398753",
   "metadata": {},
   "source": [
    "## All pipelines are close of performance mertics so, I use Pipeline2 that have the lowest dimension of columns"
   ]
  },
  {
   "cell_type": "markdown",
   "id": "483cc8f7",
   "metadata": {},
   "source": [
    "## Pipeline5\n",
    "   1. Impute numeric_cols with median and then std scaler\n",
    "   2. Ordinal_encoder cat_cols\n",
    "   3. Drop: `GDP`, `thinness 5-9 years`, `under-five deaths`, 'Year', 'Country', 'Schooling'\n",
    "   4. PCA : reduce feature 12 columns "
   ]
  },
  {
   "cell_type": "code",
   "execution_count": 8,
   "id": "4ced6f53",
   "metadata": {},
   "outputs": [
    {
     "ename": "ValueError",
     "evalue": "No valid specification of the columns. Only a scalar, list or slice of all integers or all strings, or boolean mask is allowed",
     "output_type": "error",
     "traceback": [
      "\u001b[1;31m---------------------------------------------------------------------------\u001b[0m",
      "\u001b[1;31mValueError\u001b[0m                                Traceback (most recent call last)",
      "\u001b[1;32m~\\AppData\\Local\\Temp/ipykernel_2916/1509989092.py\u001b[0m in \u001b[0;36m<module>\u001b[1;34m\u001b[0m\n\u001b[1;32m----> 1\u001b[1;33m \u001b[0mX_train5\u001b[0m\u001b[1;33m,\u001b[0m \u001b[0mfull_pipeline\u001b[0m  \u001b[1;33m=\u001b[0m \u001b[0mPipelines\u001b[0m\u001b[1;33m.\u001b[0m\u001b[0mFull_pipeline5\u001b[0m\u001b[1;33m(\u001b[0m\u001b[0mX_train\u001b[0m\u001b[1;33m)\u001b[0m\u001b[1;33m\u001b[0m\u001b[1;33m\u001b[0m\u001b[0m\n\u001b[0m\u001b[0;32m      2\u001b[0m \u001b[1;33m\u001b[0m\u001b[0m\n\u001b[0;32m      3\u001b[0m \u001b[0mpipeline5_data\u001b[0m \u001b[1;33m=\u001b[0m \u001b[0mPipelines\u001b[0m\u001b[1;33m.\u001b[0m\u001b[0mcompute_pipeline\u001b[0m\u001b[1;33m(\u001b[0m\u001b[0mX_train5\u001b[0m\u001b[1;33m,\u001b[0m\u001b[0my_train\u001b[0m\u001b[1;33m,\u001b[0m\u001b[0mmodels\u001b[0m\u001b[1;33m,\u001b[0m\u001b[0mmodel_name\u001b[0m\u001b[1;33m,\u001b[0m\u001b[1;36m4\u001b[0m\u001b[1;33m)\u001b[0m\u001b[1;33m\u001b[0m\u001b[1;33m\u001b[0m\u001b[0m\n\u001b[0;32m      4\u001b[0m \u001b[0mpipeline5_data\u001b[0m\u001b[1;33m\u001b[0m\u001b[1;33m\u001b[0m\u001b[0m\n",
      "\u001b[1;32m~\\Downloads\\ML Projects\\New folder\\Pipelines.py\u001b[0m in \u001b[0;36mFull_pipeline5\u001b[1;34m(X_train)\u001b[0m\n\u001b[0;32m    228\u001b[0m \u001b[1;33m\u001b[0m\u001b[0m\n\u001b[0;32m    229\u001b[0m \u001b[1;33m\u001b[0m\u001b[0m\n\u001b[1;32m--> 230\u001b[1;33m     \u001b[0mX_train\u001b[0m \u001b[1;33m=\u001b[0m \u001b[0mfull_pipeline\u001b[0m\u001b[1;33m.\u001b[0m\u001b[0mfit_transform\u001b[0m\u001b[1;33m(\u001b[0m\u001b[0mX_train\u001b[0m\u001b[1;33m)\u001b[0m\u001b[1;33m\u001b[0m\u001b[1;33m\u001b[0m\u001b[0m\n\u001b[0m\u001b[0;32m    231\u001b[0m \u001b[1;33m\u001b[0m\u001b[0m\n\u001b[0;32m    232\u001b[0m     \u001b[1;32mreturn\u001b[0m  \u001b[0mX_train\u001b[0m \u001b[1;33m,\u001b[0m \u001b[0mfull_pipeline\u001b[0m\u001b[1;33m\u001b[0m\u001b[1;33m\u001b[0m\u001b[0m\n",
      "\u001b[1;32m~\\AppData\\Roaming\\Python\\Python39\\site-packages\\sklearn\\utils\\_set_output.py\u001b[0m in \u001b[0;36mwrapped\u001b[1;34m(self, X, *args, **kwargs)\u001b[0m\n\u001b[0;32m    138\u001b[0m     \u001b[1;33m@\u001b[0m\u001b[0mwraps\u001b[0m\u001b[1;33m(\u001b[0m\u001b[0mf\u001b[0m\u001b[1;33m)\u001b[0m\u001b[1;33m\u001b[0m\u001b[1;33m\u001b[0m\u001b[0m\n\u001b[0;32m    139\u001b[0m     \u001b[1;32mdef\u001b[0m \u001b[0mwrapped\u001b[0m\u001b[1;33m(\u001b[0m\u001b[0mself\u001b[0m\u001b[1;33m,\u001b[0m \u001b[0mX\u001b[0m\u001b[1;33m,\u001b[0m \u001b[1;33m*\u001b[0m\u001b[0margs\u001b[0m\u001b[1;33m,\u001b[0m \u001b[1;33m**\u001b[0m\u001b[0mkwargs\u001b[0m\u001b[1;33m)\u001b[0m\u001b[1;33m:\u001b[0m\u001b[1;33m\u001b[0m\u001b[1;33m\u001b[0m\u001b[0m\n\u001b[1;32m--> 140\u001b[1;33m         \u001b[0mdata_to_wrap\u001b[0m \u001b[1;33m=\u001b[0m \u001b[0mf\u001b[0m\u001b[1;33m(\u001b[0m\u001b[0mself\u001b[0m\u001b[1;33m,\u001b[0m \u001b[0mX\u001b[0m\u001b[1;33m,\u001b[0m \u001b[1;33m*\u001b[0m\u001b[0margs\u001b[0m\u001b[1;33m,\u001b[0m \u001b[1;33m**\u001b[0m\u001b[0mkwargs\u001b[0m\u001b[1;33m)\u001b[0m\u001b[1;33m\u001b[0m\u001b[1;33m\u001b[0m\u001b[0m\n\u001b[0m\u001b[0;32m    141\u001b[0m         \u001b[1;32mif\u001b[0m \u001b[0misinstance\u001b[0m\u001b[1;33m(\u001b[0m\u001b[0mdata_to_wrap\u001b[0m\u001b[1;33m,\u001b[0m \u001b[0mtuple\u001b[0m\u001b[1;33m)\u001b[0m\u001b[1;33m:\u001b[0m\u001b[1;33m\u001b[0m\u001b[1;33m\u001b[0m\u001b[0m\n\u001b[0;32m    142\u001b[0m             \u001b[1;31m# only wrap the first output for cross decomposition\u001b[0m\u001b[1;33m\u001b[0m\u001b[1;33m\u001b[0m\u001b[0m\n",
      "\u001b[1;32m~\\AppData\\Roaming\\Python\\Python39\\site-packages\\sklearn\\compose\\_column_transformer.py\u001b[0m in \u001b[0;36mfit_transform\u001b[1;34m(self, X, y)\u001b[0m\n\u001b[0;32m    722\u001b[0m         \u001b[0mself\u001b[0m\u001b[1;33m.\u001b[0m\u001b[0m_check_n_features\u001b[0m\u001b[1;33m(\u001b[0m\u001b[0mX\u001b[0m\u001b[1;33m,\u001b[0m \u001b[0mreset\u001b[0m\u001b[1;33m=\u001b[0m\u001b[1;32mTrue\u001b[0m\u001b[1;33m)\u001b[0m\u001b[1;33m\u001b[0m\u001b[1;33m\u001b[0m\u001b[0m\n\u001b[0;32m    723\u001b[0m         \u001b[0mself\u001b[0m\u001b[1;33m.\u001b[0m\u001b[0m_validate_transformers\u001b[0m\u001b[1;33m(\u001b[0m\u001b[1;33m)\u001b[0m\u001b[1;33m\u001b[0m\u001b[1;33m\u001b[0m\u001b[0m\n\u001b[1;32m--> 724\u001b[1;33m         \u001b[0mself\u001b[0m\u001b[1;33m.\u001b[0m\u001b[0m_validate_column_callables\u001b[0m\u001b[1;33m(\u001b[0m\u001b[0mX\u001b[0m\u001b[1;33m)\u001b[0m\u001b[1;33m\u001b[0m\u001b[1;33m\u001b[0m\u001b[0m\n\u001b[0m\u001b[0;32m    725\u001b[0m         \u001b[0mself\u001b[0m\u001b[1;33m.\u001b[0m\u001b[0m_validate_remainder\u001b[0m\u001b[1;33m(\u001b[0m\u001b[0mX\u001b[0m\u001b[1;33m)\u001b[0m\u001b[1;33m\u001b[0m\u001b[1;33m\u001b[0m\u001b[0m\n\u001b[0;32m    726\u001b[0m \u001b[1;33m\u001b[0m\u001b[0m\n",
      "\u001b[1;32m~\\AppData\\Roaming\\Python\\Python39\\site-packages\\sklearn\\compose\\_column_transformer.py\u001b[0m in \u001b[0;36m_validate_column_callables\u001b[1;34m(self, X)\u001b[0m\n\u001b[0;32m    424\u001b[0m                 \u001b[0mcolumns\u001b[0m \u001b[1;33m=\u001b[0m \u001b[0mcolumns\u001b[0m\u001b[1;33m(\u001b[0m\u001b[0mX\u001b[0m\u001b[1;33m)\u001b[0m\u001b[1;33m\u001b[0m\u001b[1;33m\u001b[0m\u001b[0m\n\u001b[0;32m    425\u001b[0m             \u001b[0mall_columns\u001b[0m\u001b[1;33m.\u001b[0m\u001b[0mappend\u001b[0m\u001b[1;33m(\u001b[0m\u001b[0mcolumns\u001b[0m\u001b[1;33m)\u001b[0m\u001b[1;33m\u001b[0m\u001b[1;33m\u001b[0m\u001b[0m\n\u001b[1;32m--> 426\u001b[1;33m             \u001b[0mtransformer_to_input_indices\u001b[0m\u001b[1;33m[\u001b[0m\u001b[0mname\u001b[0m\u001b[1;33m]\u001b[0m \u001b[1;33m=\u001b[0m \u001b[0m_get_column_indices\u001b[0m\u001b[1;33m(\u001b[0m\u001b[0mX\u001b[0m\u001b[1;33m,\u001b[0m \u001b[0mcolumns\u001b[0m\u001b[1;33m)\u001b[0m\u001b[1;33m\u001b[0m\u001b[1;33m\u001b[0m\u001b[0m\n\u001b[0m\u001b[0;32m    427\u001b[0m \u001b[1;33m\u001b[0m\u001b[0m\n\u001b[0;32m    428\u001b[0m         \u001b[0mself\u001b[0m\u001b[1;33m.\u001b[0m\u001b[0m_columns\u001b[0m \u001b[1;33m=\u001b[0m \u001b[0mall_columns\u001b[0m\u001b[1;33m\u001b[0m\u001b[1;33m\u001b[0m\u001b[0m\n",
      "\u001b[1;32m~\\AppData\\Roaming\\Python\\Python39\\site-packages\\sklearn\\utils\\__init__.py\u001b[0m in \u001b[0;36m_get_column_indices\u001b[1;34m(X, key)\u001b[0m\n\u001b[0;32m    458\u001b[0m         \u001b[1;32mreturn\u001b[0m \u001b[0mcolumn_indices\u001b[0m\u001b[1;33m\u001b[0m\u001b[1;33m\u001b[0m\u001b[0m\n\u001b[0;32m    459\u001b[0m     \u001b[1;32melse\u001b[0m\u001b[1;33m:\u001b[0m\u001b[1;33m\u001b[0m\u001b[1;33m\u001b[0m\u001b[0m\n\u001b[1;32m--> 460\u001b[1;33m         raise ValueError(\n\u001b[0m\u001b[0;32m    461\u001b[0m             \u001b[1;34m\"No valid specification of the columns. Only a \"\u001b[0m\u001b[1;33m\u001b[0m\u001b[1;33m\u001b[0m\u001b[0m\n\u001b[0;32m    462\u001b[0m             \u001b[1;34m\"scalar, list or slice of all integers or all \"\u001b[0m\u001b[1;33m\u001b[0m\u001b[1;33m\u001b[0m\u001b[0m\n",
      "\u001b[1;31mValueError\u001b[0m: No valid specification of the columns. Only a scalar, list or slice of all integers or all strings, or boolean mask is allowed"
     ]
    }
   ],
   "source": [
    "# X_train5, full_pipeline  = Pipelines.Full_pipeline5(X_train)\n",
    "\n",
    "# pipeline5_data = Pipelines.compute_pipeline(X_train5,y_train,models,model_name,4)\n",
    "# pipeline5_data"
   ]
  },
  {
   "cell_type": "code",
   "execution_count": null,
   "id": "431b983c",
   "metadata": {},
   "outputs": [],
   "source": []
  }
 ],
 "metadata": {
  "kernelspec": {
   "display_name": "Python 3 (ipykernel)",
   "language": "python",
   "name": "python3"
  },
  "language_info": {
   "codemirror_mode": {
    "name": "ipython",
    "version": 3
   },
   "file_extension": ".py",
   "mimetype": "text/x-python",
   "name": "python",
   "nbconvert_exporter": "python",
   "pygments_lexer": "ipython3",
   "version": "3.9.7"
  }
 },
 "nbformat": 4,
 "nbformat_minor": 5
}
